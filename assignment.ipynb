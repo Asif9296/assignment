{
 "cells": [
  {
   "cell_type": "code",
   "execution_count": 3,
   "id": "882cff87-c310-43d7-8536-9a0886cf670c",
   "metadata": {},
   "outputs": [],
   "source": [
    "# Q1. Explain with an example each when to use a for loop and a while loop."
   ]
  },
  {
   "cell_type": "code",
   "execution_count": 2,
   "id": "b484b588-26de-420a-95a3-5ac237149491",
   "metadata": {},
   "outputs": [
    {
     "name": "stdout",
     "output_type": "stream",
     "text": [
      "1\n",
      "2\n",
      "3\n",
      "4\n"
     ]
    }
   ],
   "source": [
    "#        \"for loop in python\"\n",
    "\"\"\" In python, a 'for loop' is used to iterate over a sequence of items, such a python tuple, string, list, or range.\n",
    "The will execute a block of statements of statements of each item in the sequence. \"\"\"\n",
    "# Example\n",
    "l=[1,2,3,4]\n",
    "for i in l:\n",
    "    print(i)\n"
   ]
  },
  {
   "cell_type": "code",
   "execution_count": 3,
   "id": "a7d25f17-da88-4b2d-a9ea-d894f24d4b26",
   "metadata": {},
   "outputs": [
    {
     "name": "stdout",
     "output_type": "stream",
     "text": [
      "1\n",
      "2\n",
      "3\n",
      "4\n",
      "5\n",
      "6\n",
      "7\n",
      "8\n",
      "9\n",
      "10\n"
     ]
    }
   ],
   "source": [
    "#        \"while loop in python\"\n",
    "\"\"\" In python, a while loop is used to repeatedly execute a block of statements while a condition is true.\n",
    "The loop will continue to run as long as the condition remains true.\"\"\"\n",
    "# Examlpe\n",
    "a=1\n",
    "while a<=10:\n",
    "    print(a)\n",
    "    a=a+1"
   ]
  },
  {
   "cell_type": "code",
   "execution_count": 4,
   "id": "438d3b37-41c5-4547-9050-ea458a1382dd",
   "metadata": {},
   "outputs": [],
   "source": [
    "# Q2. Write a program to print the sum and product of the first 10 natural numbers using for and while loop."
   ]
  },
  {
   "cell_type": "code",
   "execution_count": 5,
   "id": "de8cb176-a8bd-4ed0-a7bf-b76ba217510b",
   "metadata": {},
   "outputs": [
    {
     "data": {
      "text/plain": [
       "55"
      ]
     },
     "execution_count": 5,
     "metadata": {},
     "output_type": "execute_result"
    }
   ],
   "source": [
    "# using for loop \n",
    "sum_number=0\n",
    "for i in range(0,11):\n",
    "    sum_number=sum_number+i\n",
    "sum_number    \n"
   ]
  },
  {
   "cell_type": "code",
   "execution_count": 6,
   "id": "251cd53a-abe2-4d2c-9210-6bc42399a9a5",
   "metadata": {},
   "outputs": [
    {
     "data": {
      "text/plain": [
       "55"
      ]
     },
     "execution_count": 6,
     "metadata": {},
     "output_type": "execute_result"
    }
   ],
   "source": [
    "# using while loop\n",
    "n=10\n",
    "starting_point=0\n",
    "counter=1\n",
    "while counter<=n:\n",
    "    starting_point=starting_point+counter\n",
    "    counter=counter+1\n",
    "starting_point\n",
    "    "
   ]
  },
  {
   "cell_type": "code",
   "execution_count": 7,
   "id": "5c4cf283-14af-40dd-ab06-bde5ccd74739",
   "metadata": {},
   "outputs": [
    {
     "data": {
      "text/plain": [
       "' Q3. Create a python program to compute the electricity bill for a household.\\nThe per-unit charges in rupees are as follows: for the first 100 units, the user\\nwill be charged Rs. 4.5 per unit, for the next 100 units , the user will be charged\\nRs. 6 per unit , the user will be charged Rs. 10 per unit , After 300 units and above\\nthe user will be charged Rs. 20 per unit.\\n\\nYou are requierd to take the units and above the user will be charged Rs. 20 per unit.'"
      ]
     },
     "execution_count": 7,
     "metadata": {},
     "output_type": "execute_result"
    }
   ],
   "source": [
    "\"\"\" Q3. Create a python program to compute the electricity bill for a household.\n",
    "The per-unit charges in rupees are as follows: for the first 100 units, the user\n",
    "will be charged Rs. 4.5 per unit, for the next 100 units , the user will be charged\n",
    "Rs. 6 per unit , the user will be charged Rs. 10 per unit , After 300 units and above\n",
    "the user will be charged Rs. 20 per unit.\n",
    "\n",
    "You are requierd to take the units and above the user will be charged Rs. 20 per unit.\"\"\""
   ]
  },
  {
   "cell_type": "code",
   "execution_count": 9,
   "id": "39f1f568-90af-4495-9911-be2b597d1d59",
   "metadata": {},
   "outputs": [
    {
     "name": "stdin",
     "output_type": "stream",
     "text": [
      "enter the unit number 320\n"
     ]
    },
    {
     "name": "stdout",
     "output_type": "stream",
     "text": [
      "20\n"
     ]
    }
   ],
   "source": [
    "charge_unit=int(input(\"enter the unit number\"))\n",
    "if charge_unit<=100:\n",
    "    print(4.5)\n",
    "elif charge_unit>=100 and charge_unit<=200:\n",
    "    print(6)\n",
    "elif charge_unit>=200 and charge_unit<=300:\n",
    "    print(10)\n",
    "else:\n",
    "    print(20)"
   ]
  },
  {
   "cell_type": "code",
   "execution_count": 38,
   "id": "c3f948de-536c-43c7-ad45-68e019d3efef",
   "metadata": {},
   "outputs": [
    {
     "data": {
      "text/plain": [
       "' Q4. create a list of number from 1 to 100. Use for loop and while loop to calculate the cube of each\\nnumber and if the cube of that number is divisible by 4 and 5 then append that number in a list and print that list. '"
      ]
     },
     "execution_count": 38,
     "metadata": {},
     "output_type": "execute_result"
    }
   ],
   "source": [
    "\"\"\" Q4. create a list of number from 1 to 100. Use for loop and while loop to calculate the cube of each\n",
    "number and if the cube of that number is divisible by 4 and 5 then append that number in a list and print that list. \"\"\""
   ]
  },
  {
   "cell_type": "code",
   "execution_count": 1,
   "id": "fbfaa2bc-60db-42f7-9849-7346895a2319",
   "metadata": {},
   "outputs": [],
   "source": [
    "# using the for loop\n",
    "l1=[]\n",
    "for i in range(1,100):\n",
    "    i=i**3\n",
    "    if i%4==0 and i%5==0:\n",
    "        l1.append(i)"
   ]
  },
  {
   "cell_type": "code",
   "execution_count": 2,
   "id": "441bd5e1-5aa0-4564-b513-f418e6d24836",
   "metadata": {},
   "outputs": [
    {
     "data": {
      "text/plain": [
       "[1000, 8000, 27000, 64000, 125000, 216000, 343000, 512000, 729000]"
      ]
     },
     "execution_count": 2,
     "metadata": {},
     "output_type": "execute_result"
    }
   ],
   "source": [
    "l1"
   ]
  },
  {
   "cell_type": "code",
   "execution_count": 1,
   "id": "57bb3f59-2397-4b23-9699-2e36d1c9a5f9",
   "metadata": {},
   "outputs": [
    {
     "name": "stdout",
     "output_type": "stream",
     "text": [
      "8000\n",
      "64000\n",
      "216000\n",
      "512000\n",
      "1000000\n"
     ]
    }
   ],
   "source": [
    "# using the while loop\n",
    "a=1\n",
    "while a<=100:\n",
    "    if a%4==0 and a%5==0:\n",
    "        print(a**3)\n",
    "    a=a+1\n",
    "    "
   ]
  },
  {
   "cell_type": "code",
   "execution_count": 12,
   "id": "d1055a6a-2b39-41d4-a5e4-530947bad039",
   "metadata": {},
   "outputs": [],
   "source": [
    "# Q5. write a program to filter count vowels in the below - given string."
   ]
  },
  {
   "cell_type": "code",
   "execution_count": 13,
   "id": "ac549699-af1c-4bdd-9da1-503cf0fdfbc4",
   "metadata": {},
   "outputs": [
    {
     "name": "stdout",
     "output_type": "stream",
     "text": [
      "total vowels are:12\n"
     ]
    }
   ],
   "source": [
    "string=\"i want to become a data scientist\"\n",
    "count=0\n",
    "for i in string:\n",
    "    if i=='a' or i=='e' or i=='i' or i=='o' or i=='u' :\n",
    "        count=count+1\n",
    "if count ==0:\n",
    "    print(\"no vowels found\")\n",
    "else:\n",
    "    print('total vowels are:'+str(count))"
   ]
  },
  {
   "cell_type": "code",
   "execution_count": null,
   "id": "b9ca449d-5f34-4377-ae85-fba65bd4ee66",
   "metadata": {},
   "outputs": [],
   "source": []
  }
 ],
 "metadata": {
  "kernelspec": {
   "display_name": "Python 3 (ipykernel)",
   "language": "python",
   "name": "python3"
  },
  "language_info": {
   "codemirror_mode": {
    "name": "ipython",
    "version": 3
   },
   "file_extension": ".py",
   "mimetype": "text/x-python",
   "name": "python",
   "nbconvert_exporter": "python",
   "pygments_lexer": "ipython3",
   "version": "3.10.8"
  }
 },
 "nbformat": 4,
 "nbformat_minor": 5
}
